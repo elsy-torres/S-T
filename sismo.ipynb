{
  "nbformat": 4,
  "nbformat_minor": 0,
  "metadata": {
    "colab": {
      "name": "Untitled4.ipynb",
      "provenance": [],
      "toc_visible": true,
      "authorship_tag": "ABX9TyNNEJGz2gJ+LyDUBGMv9t82",
      "include_colab_link": true
    },
    "kernelspec": {
      "name": "python3",
      "display_name": "Python 3"
    }
  },
  "cells": [
    {
      "cell_type": "markdown",
      "metadata": {
        "id": "view-in-github",
        "colab_type": "text"
      },
      "source": [
        "<a href=\"https://colab.research.google.com/github/elsy-torres/S-T/blob/main/sismo.ipynb\" target=\"_parent\"><img src=\"https://colab.research.google.com/assets/colab-badge.svg\" alt=\"Open In Colab\"/></a>"
      ]
    },
    {
      "cell_type": "markdown",
      "metadata": {
        "id": "jq2UHvAtyY-6"
      },
      "source": [
        "# Histograma de Sismicidad"
      ]
    },
    {
      "cell_type": "code",
      "metadata": {
        "id": "iYTnM22SyO7y"
      },
      "source": [
        "import matplotlib.pyplot as plt\n",
        "import pandas as pd\n",
        "import numpy as np"
      ],
      "execution_count": null,
      "outputs": []
    },
    {
      "cell_type": "code",
      "metadata": {
        "colab": {
          "base_uri": "https://localhost:8080/"
        },
        "id": "9X9QA3qJzV2q",
        "outputId": "c0ea04a9-f849-40a1-8cb7-3033c97d2456"
      },
      "source": [
        "data=pd.read_csv('catalog.csv',names=['date','lat','lon','depth','Ml','MC','MW'],skiprows=2,sep=',',engine='python')\n",
        "print(data)"
      ],
      "execution_count": null,
      "outputs": [
        {
          "output_type": "stream",
          "text": [
            "           date     lat      lon  depth   Ml   MC   MW\n",
            "0    2010-04-04  32.155 -115.256   10.0  5.5  0.0  5.5\n",
            "1    2010-04-04  32.260 -115.349    6.0  0.0  2.2  2.2\n",
            "2    2010-04-04  32.210 -115.424    7.0  0.0  2.2  2.2\n",
            "3    2010-04-04  32.165 -115.283    8.0  0.0  1.9  1.9\n",
            "4    2010-04-04  32.269 -115.327    6.0  4.7  0.0  4.7\n",
            "..          ...     ...      ...    ...  ...  ...  ...\n",
            "928  2010-07-13  32.265 -115.333    5.0  2.2  2.0  2.2\n",
            "929  2010-07-13  32.176 -115.238    8.0  2.6  2.4  2.6\n",
            "930  2010-07-13  32.333 -115.342    6.0  2.7  2.5  2.7\n",
            "931  2010-07-13  32.124 -115.203    8.0  2.5  2.3  2.5\n",
            "932  2010-07-13  32.390 -115.496    5.0  2.2  2.0  2.2\n",
            "\n",
            "[933 rows x 7 columns]\n"
          ],
          "name": "stdout"
        }
      ]
    },
    {
      "cell_type": "code",
      "metadata": {
        "colab": {
          "base_uri": "https://localhost:8080/"
        },
        "id": "55r7UWyZ0e41",
        "outputId": "bc7338a8-9346-485d-8173-4782b5cc1f13"
      },
      "source": [
        "n=len(data)\n",
        "print(n)"
      ],
      "execution_count": null,
      "outputs": [
        {
          "output_type": "stream",
          "text": [
            "933\n"
          ],
          "name": "stdout"
        }
      ]
    },
    {
      "cell_type": "code",
      "metadata": {
        "id": "VOAm4uff3Tna"
      },
      "source": [
        "day=100"
      ],
      "execution_count": null,
      "outputs": []
    },
    {
      "cell_type": "code",
      "metadata": {
        "id": "vSZqrOzr3K5d"
      },
      "source": [
        "bins=np.arange(1,day+1)\n",
        "print(len(bins))"
      ],
      "execution_count": null,
      "outputs": []
    },
    {
      "cell_type": "code",
      "metadata": {
        "colab": {
          "base_uri": "https://localhost:8080/",
          "height": 359
        },
        "id": "zyr2wUh73j5e",
        "outputId": "e79d68e4-c41a-4276-f5e4-c0afd192c053"
      },
      "source": [
        "df=pd.DataFrame(data)\n",
        "from IPython.display import display # ignorar(es estetica)\n",
        "display(df.head(10))"
      ],
      "execution_count": null,
      "outputs": [
        {
          "output_type": "display_data",
          "data": {
            "text/html": [
              "<div>\n",
              "<style scoped>\n",
              "    .dataframe tbody tr th:only-of-type {\n",
              "        vertical-align: middle;\n",
              "    }\n",
              "\n",
              "    .dataframe tbody tr th {\n",
              "        vertical-align: top;\n",
              "    }\n",
              "\n",
              "    .dataframe thead th {\n",
              "        text-align: right;\n",
              "    }\n",
              "</style>\n",
              "<table border=\"1\" class=\"dataframe\">\n",
              "  <thead>\n",
              "    <tr style=\"text-align: right;\">\n",
              "      <th></th>\n",
              "      <th>date</th>\n",
              "      <th>lat</th>\n",
              "      <th>lon</th>\n",
              "      <th>depth</th>\n",
              "      <th>Ml</th>\n",
              "      <th>MC</th>\n",
              "      <th>MW</th>\n",
              "    </tr>\n",
              "  </thead>\n",
              "  <tbody>\n",
              "    <tr>\n",
              "      <th>0</th>\n",
              "      <td>2010-04-04</td>\n",
              "      <td>32.155</td>\n",
              "      <td>-115.256</td>\n",
              "      <td>10.0</td>\n",
              "      <td>5.5</td>\n",
              "      <td>0.0</td>\n",
              "      <td>5.5</td>\n",
              "    </tr>\n",
              "    <tr>\n",
              "      <th>1</th>\n",
              "      <td>2010-04-04</td>\n",
              "      <td>32.260</td>\n",
              "      <td>-115.349</td>\n",
              "      <td>6.0</td>\n",
              "      <td>0.0</td>\n",
              "      <td>2.2</td>\n",
              "      <td>2.2</td>\n",
              "    </tr>\n",
              "    <tr>\n",
              "      <th>2</th>\n",
              "      <td>2010-04-04</td>\n",
              "      <td>32.210</td>\n",
              "      <td>-115.424</td>\n",
              "      <td>7.0</td>\n",
              "      <td>0.0</td>\n",
              "      <td>2.2</td>\n",
              "      <td>2.2</td>\n",
              "    </tr>\n",
              "    <tr>\n",
              "      <th>3</th>\n",
              "      <td>2010-04-04</td>\n",
              "      <td>32.165</td>\n",
              "      <td>-115.283</td>\n",
              "      <td>8.0</td>\n",
              "      <td>0.0</td>\n",
              "      <td>1.9</td>\n",
              "      <td>1.9</td>\n",
              "    </tr>\n",
              "    <tr>\n",
              "      <th>4</th>\n",
              "      <td>2010-04-04</td>\n",
              "      <td>32.269</td>\n",
              "      <td>-115.327</td>\n",
              "      <td>6.0</td>\n",
              "      <td>4.7</td>\n",
              "      <td>0.0</td>\n",
              "      <td>4.7</td>\n",
              "    </tr>\n",
              "    <tr>\n",
              "      <th>5</th>\n",
              "      <td>2010-04-04</td>\n",
              "      <td>32.247</td>\n",
              "      <td>-115.296</td>\n",
              "      <td>8.0</td>\n",
              "      <td>5.5</td>\n",
              "      <td>0.0</td>\n",
              "      <td>5.5</td>\n",
              "    </tr>\n",
              "    <tr>\n",
              "      <th>6</th>\n",
              "      <td>2010-04-04</td>\n",
              "      <td>32.239</td>\n",
              "      <td>-115.294</td>\n",
              "      <td>8.0</td>\n",
              "      <td>4.3</td>\n",
              "      <td>0.0</td>\n",
              "      <td>4.3</td>\n",
              "    </tr>\n",
              "    <tr>\n",
              "      <th>7</th>\n",
              "      <td>2010-04-04</td>\n",
              "      <td>32.240</td>\n",
              "      <td>-115.300</td>\n",
              "      <td>6.0</td>\n",
              "      <td>5.7</td>\n",
              "      <td>0.0</td>\n",
              "      <td>5.7</td>\n",
              "    </tr>\n",
              "    <tr>\n",
              "      <th>8</th>\n",
              "      <td>2010-04-04</td>\n",
              "      <td>32.296</td>\n",
              "      <td>-115.388</td>\n",
              "      <td>6.0</td>\n",
              "      <td>4.8</td>\n",
              "      <td>0.0</td>\n",
              "      <td>4.8</td>\n",
              "    </tr>\n",
              "    <tr>\n",
              "      <th>9</th>\n",
              "      <td>2010-04-05</td>\n",
              "      <td>32.156</td>\n",
              "      <td>-115.222</td>\n",
              "      <td>9.0</td>\n",
              "      <td>4.8</td>\n",
              "      <td>0.0</td>\n",
              "      <td>4.8</td>\n",
              "    </tr>\n",
              "  </tbody>\n",
              "</table>\n",
              "</div>"
            ],
            "text/plain": [
              "         date     lat      lon  depth   Ml   MC   MW\n",
              "0  2010-04-04  32.155 -115.256   10.0  5.5  0.0  5.5\n",
              "1  2010-04-04  32.260 -115.349    6.0  0.0  2.2  2.2\n",
              "2  2010-04-04  32.210 -115.424    7.0  0.0  2.2  2.2\n",
              "3  2010-04-04  32.165 -115.283    8.0  0.0  1.9  1.9\n",
              "4  2010-04-04  32.269 -115.327    6.0  4.7  0.0  4.7\n",
              "5  2010-04-04  32.247 -115.296    8.0  5.5  0.0  5.5\n",
              "6  2010-04-04  32.239 -115.294    8.0  4.3  0.0  4.3\n",
              "7  2010-04-04  32.240 -115.300    6.0  5.7  0.0  5.7\n",
              "8  2010-04-04  32.296 -115.388    6.0  4.8  0.0  4.8\n",
              "9  2010-04-05  32.156 -115.222    9.0  4.8  0.0  4.8"
            ]
          },
          "metadata": {
            "tags": []
          }
        }
      ]
    },
    {
      "cell_type": "code",
      "metadata": {
        "id": "MFJKT_TwNTkW"
      },
      "source": [
        " grouped=df.mode()\n",
        " print(grouped)"
      ],
      "execution_count": null,
      "outputs": []
    },
    {
      "cell_type": "code",
      "metadata": {
        "id": "0bdAH61lUSwp"
      },
      "source": [
        "series=pd.Series(data['date'])\n",
        "print(series)"
      ],
      "execution_count": null,
      "outputs": []
    },
    {
      "cell_type": "code",
      "metadata": {
        "colab": {
          "base_uri": "https://localhost:8080/"
        },
        "id": "SlLLCXomU3_6",
        "outputId": "3eb6a16a-5457-470a-8648-8813d7d64254"
      },
      "source": [
        "ocurr=series.value_counts()\n",
        "print(ocurr)"
      ],
      "execution_count": null,
      "outputs": [
        {
          "output_type": "stream",
          "text": [
            "2010-05-05    25\n",
            "2010-04-06    24\n",
            "2010-04-30    20\n",
            "2010-04-11    19\n",
            "2010-05-14    19\n",
            "              ..\n",
            "2010-06-03     3\n",
            "2010-06-04     3\n",
            "2010-05-22     2\n",
            "2010-06-05     2\n",
            "2010-06-28     2\n",
            "Name: date, Length: 100, dtype: int64\n"
          ],
          "name": "stdout"
        }
      ]
    },
    {
      "cell_type": "code",
      "metadata": {
        "colab": {
          "base_uri": "https://localhost:8080/",
          "height": 578
        },
        "id": "OXQolM9r0DiH",
        "outputId": "d68fccf7-ff98-433f-93b6-715f986ebcdb"
      },
      "source": [
        "counts=df.set_index(data['date']).resample(data['date']).size()"
      ],
      "execution_count": null,
      "outputs": [
        {
          "output_type": "error",
          "ename": "ValueError",
          "evalue": "ignored",
          "traceback": [
            "\u001b[0;31m---------------------------------------------------------------------------\u001b[0m",
            "\u001b[0;31mValueError\u001b[0m                                Traceback (most recent call last)",
            "\u001b[0;32m<ipython-input-60-3d51fa8707e9>\u001b[0m in \u001b[0;36m<module>\u001b[0;34m()\u001b[0m\n\u001b[0;32m----> 1\u001b[0;31m \u001b[0mcounts\u001b[0m\u001b[0;34m=\u001b[0m\u001b[0mdf\u001b[0m\u001b[0;34m.\u001b[0m\u001b[0mset_index\u001b[0m\u001b[0;34m(\u001b[0m\u001b[0mdata\u001b[0m\u001b[0;34m[\u001b[0m\u001b[0;34m'date'\u001b[0m\u001b[0;34m]\u001b[0m\u001b[0;34m)\u001b[0m\u001b[0;34m.\u001b[0m\u001b[0mresample\u001b[0m\u001b[0;34m(\u001b[0m\u001b[0mdata\u001b[0m\u001b[0;34m[\u001b[0m\u001b[0;34m'date'\u001b[0m\u001b[0;34m]\u001b[0m\u001b[0;34m)\u001b[0m\u001b[0;34m.\u001b[0m\u001b[0msize\u001b[0m\u001b[0;34m(\u001b[0m\u001b[0;34m)\u001b[0m\u001b[0;34m\u001b[0m\u001b[0;34m\u001b[0m\u001b[0m\n\u001b[0m",
            "\u001b[0;32m/usr/local/lib/python3.6/dist-packages/pandas/core/generic.py\u001b[0m in \u001b[0;36mresample\u001b[0;34m(self, rule, axis, closed, label, convention, kind, loffset, base, on, level, origin, offset)\u001b[0m\n\u001b[1;32m   8088\u001b[0m             \u001b[0mlevel\u001b[0m\u001b[0;34m=\u001b[0m\u001b[0mlevel\u001b[0m\u001b[0;34m,\u001b[0m\u001b[0;34m\u001b[0m\u001b[0;34m\u001b[0m\u001b[0m\n\u001b[1;32m   8089\u001b[0m             \u001b[0morigin\u001b[0m\u001b[0;34m=\u001b[0m\u001b[0morigin\u001b[0m\u001b[0;34m,\u001b[0m\u001b[0;34m\u001b[0m\u001b[0;34m\u001b[0m\u001b[0m\n\u001b[0;32m-> 8090\u001b[0;31m             \u001b[0moffset\u001b[0m\u001b[0;34m=\u001b[0m\u001b[0moffset\u001b[0m\u001b[0;34m,\u001b[0m\u001b[0;34m\u001b[0m\u001b[0;34m\u001b[0m\u001b[0m\n\u001b[0m\u001b[1;32m   8091\u001b[0m         )\n\u001b[1;32m   8092\u001b[0m \u001b[0;34m\u001b[0m\u001b[0m\n",
            "\u001b[0;32m/usr/local/lib/python3.6/dist-packages/pandas/core/resample.py\u001b[0m in \u001b[0;36mget_resampler\u001b[0;34m(obj, kind, **kwds)\u001b[0m\n\u001b[1;32m   1267\u001b[0m     \u001b[0mCreate\u001b[0m \u001b[0ma\u001b[0m \u001b[0mTimeGrouper\u001b[0m \u001b[0;32mand\u001b[0m \u001b[0;32mreturn\u001b[0m \u001b[0mour\u001b[0m \u001b[0mresampler\u001b[0m\u001b[0;34m.\u001b[0m\u001b[0;34m\u001b[0m\u001b[0;34m\u001b[0m\u001b[0m\n\u001b[1;32m   1268\u001b[0m     \"\"\"\n\u001b[0;32m-> 1269\u001b[0;31m     \u001b[0mtg\u001b[0m \u001b[0;34m=\u001b[0m \u001b[0mTimeGrouper\u001b[0m\u001b[0;34m(\u001b[0m\u001b[0;34m**\u001b[0m\u001b[0mkwds\u001b[0m\u001b[0;34m)\u001b[0m\u001b[0;34m\u001b[0m\u001b[0;34m\u001b[0m\u001b[0m\n\u001b[0m\u001b[1;32m   1270\u001b[0m     \u001b[0;32mreturn\u001b[0m \u001b[0mtg\u001b[0m\u001b[0;34m.\u001b[0m\u001b[0m_get_resampler\u001b[0m\u001b[0;34m(\u001b[0m\u001b[0mobj\u001b[0m\u001b[0;34m,\u001b[0m \u001b[0mkind\u001b[0m\u001b[0;34m=\u001b[0m\u001b[0mkind\u001b[0m\u001b[0;34m)\u001b[0m\u001b[0;34m\u001b[0m\u001b[0;34m\u001b[0m\u001b[0m\n\u001b[1;32m   1271\u001b[0m \u001b[0;34m\u001b[0m\u001b[0m\n",
            "\u001b[0;32m/usr/local/lib/python3.6/dist-packages/pandas/core/resample.py\u001b[0m in \u001b[0;36m__init__\u001b[0;34m(self, freq, closed, label, how, axis, fill_method, limit, loffset, kind, convention, base, origin, offset, **kwargs)\u001b[0m\n\u001b[1;32m   1338\u001b[0m             \u001b[0;32mraise\u001b[0m \u001b[0mValueError\u001b[0m\u001b[0;34m(\u001b[0m\u001b[0;34mf\"Unsupported value {convention} for `convention`\"\u001b[0m\u001b[0;34m)\u001b[0m\u001b[0;34m\u001b[0m\u001b[0;34m\u001b[0m\u001b[0m\n\u001b[1;32m   1339\u001b[0m \u001b[0;34m\u001b[0m\u001b[0m\n\u001b[0;32m-> 1340\u001b[0;31m         \u001b[0mfreq\u001b[0m \u001b[0;34m=\u001b[0m \u001b[0mto_offset\u001b[0m\u001b[0;34m(\u001b[0m\u001b[0mfreq\u001b[0m\u001b[0;34m)\u001b[0m\u001b[0;34m\u001b[0m\u001b[0;34m\u001b[0m\u001b[0m\n\u001b[0m\u001b[1;32m   1341\u001b[0m \u001b[0;34m\u001b[0m\u001b[0m\n\u001b[1;32m   1342\u001b[0m         \u001b[0mend_types\u001b[0m \u001b[0;34m=\u001b[0m \u001b[0;34m{\u001b[0m\u001b[0;34m\"M\"\u001b[0m\u001b[0;34m,\u001b[0m \u001b[0;34m\"A\"\u001b[0m\u001b[0;34m,\u001b[0m \u001b[0;34m\"Q\"\u001b[0m\u001b[0;34m,\u001b[0m \u001b[0;34m\"BM\"\u001b[0m\u001b[0;34m,\u001b[0m \u001b[0;34m\"BA\"\u001b[0m\u001b[0;34m,\u001b[0m \u001b[0;34m\"BQ\"\u001b[0m\u001b[0;34m,\u001b[0m \u001b[0;34m\"W\"\u001b[0m\u001b[0;34m}\u001b[0m\u001b[0;34m\u001b[0m\u001b[0;34m\u001b[0m\u001b[0m\n",
            "\u001b[0;32mpandas/_libs/tslibs/offsets.pyx\u001b[0m in \u001b[0;36mpandas._libs.tslibs.offsets.to_offset\u001b[0;34m()\u001b[0m\n",
            "\u001b[0;32mpandas/_libs/tslibs/offsets.pyx\u001b[0m in \u001b[0;36mpandas._libs.tslibs.offsets.to_offset\u001b[0;34m()\u001b[0m\n",
            "\u001b[0;31mValueError\u001b[0m: Invalid frequency: 0      2010-04-04\n1      2010-04-04\n2      2010-04-04\n3      2010-04-04\n4      2010-04-04\n          ...    \n928    2010-07-13\n929    2010-07-13\n930    2010-07-13\n931    2010-07-13\n932    2010-07-13\nName: date, Length: 933, dtype: object"
          ]
        }
      ]
    }
  ]
}